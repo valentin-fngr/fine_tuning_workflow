{
 "cells": [
  {
   "cell_type": "code",
   "execution_count": 48,
   "metadata": {},
   "outputs": [],
   "source": [
    "import numpy as np \n",
    "import matplotlib.pyplot as plt \n",
    "import tensorflow as tf \n",
    "from tensorflow import keras \n",
    "import tensorflow_datasets as tfds\n",
    "import os\n",
    "import pickle\n",
    "from sklearn.model_selection import train_test_split\n",
    "from tqdm import tqdm\n",
    "from keras_tqdm import TQDMNotebookCallback\n",
    "from sklearn.metrics import classification_report"
   ]
  },
  {
   "cell_type": "code",
   "execution_count": 101,
   "metadata": {},
   "outputs": [
    {
     "name": "stdout",
     "output_type": "stream",
     "text": [
      "[PhysicalDevice(name='/physical_device:GPU:0', device_type='GPU')]\n"
     ]
    }
   ],
   "source": [
    "gpu = tf.config.list_physical_devices('GPU')\n",
    "print(gpu)"
   ]
  },
  {
   "cell_type": "markdown",
   "metadata": {},
   "source": [
    "## Load Cifar 10"
   ]
  },
  {
   "cell_type": "code",
   "execution_count": 102,
   "metadata": {},
   "outputs": [],
   "source": [
    "ds = tf.keras.datasets.cifar10.load_data()\n",
    "img_size = (32,32,3)"
   ]
  },
  {
   "cell_type": "code",
   "execution_count": 103,
   "metadata": {},
   "outputs": [],
   "source": [
    "(X_train, y_train), (X_test, y_test) = ds\n",
    "X_train, X_val, y_train, y_val = train_test_split(X_train, y_train, test_size=0.2)\n",
    "y_train = tf.keras.utils.to_categorical(y_train)\n",
    "y_test = tf.keras.utils.to_categorical(y_test)\n",
    "y_val = tf.keras.utils.to_categorical(y_val)\n",
    "\n",
    "X_train = X_train / 255.0 \n",
    "X_test = X_test / 255.0 \n",
    "X_val = X_val / 255.0"
   ]
  },
  {
   "cell_type": "code",
   "execution_count": 104,
   "metadata": {},
   "outputs": [
    {
     "name": "stdout",
     "output_type": "stream",
     "text": [
      "X_train : (40000, 32, 32, 3)\n",
      "X_val : (10000, 32, 32, 3)\n",
      "X_test : (10000, 32, 32, 3)\n"
     ]
    }
   ],
   "source": [
    "print(f\"X_train : {X_train.shape}\") \n",
    "print(f\"X_val : {X_val.shape}\") \n",
    "print(f\"X_test : {X_test.shape}\")"
   ]
  },
  {
   "cell_type": "code",
   "execution_count": 105,
   "metadata": {},
   "outputs": [],
   "source": [
    "class ShallowNet: \n",
    "    \n",
    "    @staticmethod\n",
    "    def build(w, h, chanels, classes): \n",
    "        inputShape = (w, h , chanels) \n",
    "        inputs = tf.keras.Input(shape=inputShape) \n",
    "        print(inputs)\n",
    "        x = tf.keras.layers.Conv2D(32, (3,3), padding=\"same\", activation=\"relu\")(inputs) \n",
    "        x = tf.keras.layers.Flatten()(x)\n",
    "        outputs = tf.keras.layers.Dense(classes, activation=\"softmax\")(x)\n",
    "        \n",
    "        model = tf.keras.Model(inputs=inputs, outputs=outputs)\n",
    "        return model"
   ]
  },
  {
   "cell_type": "code",
   "execution_count": 108,
   "metadata": {},
   "outputs": [
    {
     "name": "stdout",
     "output_type": "stream",
     "text": [
      "KerasTensor(type_spec=TensorSpec(shape=(None, 32, 32, 3), dtype=tf.float32, name='input_11'), name='input_11', description=\"created by layer 'input_11'\")\n"
     ]
    }
   ],
   "source": [
    "optimizer = tf.keras.optimizers.SGD(lr=0.005)\n",
    "w, h, c = X_train[0].shape\n",
    "model = ShallowNet().build(w, h, c, 10)"
   ]
  },
  {
   "cell_type": "code",
   "execution_count": 109,
   "metadata": {},
   "outputs": [
    {
     "name": "stdout",
     "output_type": "stream",
     "text": [
      "Epoch 1/50\n",
      "1250/1250 - 5s - loss: 1.9124 - accuracy: 0.3228 - val_loss: 1.7635 - val_accuracy: 0.3788\n",
      "Epoch 2/50\n",
      "1250/1250 - 4s - loss: 1.7198 - accuracy: 0.4049 - val_loss: 1.6690 - val_accuracy: 0.4174\n",
      "Epoch 3/50\n",
      "1250/1250 - 4s - loss: 1.6253 - accuracy: 0.4379 - val_loss: 1.5807 - val_accuracy: 0.4476\n",
      "Epoch 4/50\n",
      "1250/1250 - 4s - loss: 1.5356 - accuracy: 0.4686 - val_loss: 1.4987 - val_accuracy: 0.4800\n",
      "Epoch 5/50\n",
      "1250/1250 - 4s - loss: 1.4537 - accuracy: 0.4967 - val_loss: 1.4360 - val_accuracy: 0.5026\n",
      "Epoch 6/50\n",
      "1250/1250 - 4s - loss: 1.3886 - accuracy: 0.5173 - val_loss: 1.4067 - val_accuracy: 0.5064\n",
      "Epoch 7/50\n",
      "1250/1250 - 4s - loss: 1.3396 - accuracy: 0.5321 - val_loss: 1.3785 - val_accuracy: 0.5152\n",
      "Epoch 8/50\n",
      "1250/1250 - 4s - loss: 1.3018 - accuracy: 0.5476 - val_loss: 1.3316 - val_accuracy: 0.5241\n",
      "Epoch 9/50\n",
      "1250/1250 - 4s - loss: 1.2723 - accuracy: 0.5573 - val_loss: 1.3204 - val_accuracy: 0.5300\n",
      "Epoch 10/50\n",
      "1250/1250 - 4s - loss: 1.2488 - accuracy: 0.5664 - val_loss: 1.3121 - val_accuracy: 0.5317\n",
      "Epoch 11/50\n",
      "1250/1250 - 4s - loss: 1.2283 - accuracy: 0.5726 - val_loss: 1.3016 - val_accuracy: 0.5332\n",
      "Epoch 12/50\n",
      "1250/1250 - 4s - loss: 1.2112 - accuracy: 0.5778 - val_loss: 1.2934 - val_accuracy: 0.5420\n",
      "Epoch 13/50\n",
      "1250/1250 - 4s - loss: 1.1936 - accuracy: 0.5845 - val_loss: 1.2912 - val_accuracy: 0.5460\n",
      "Epoch 14/50\n",
      "1250/1250 - 4s - loss: 1.1793 - accuracy: 0.5906 - val_loss: 1.2662 - val_accuracy: 0.5505\n",
      "Epoch 15/50\n",
      "1250/1250 - 4s - loss: 1.1646 - accuracy: 0.5972 - val_loss: 1.2507 - val_accuracy: 0.5564\n",
      "Epoch 16/50\n",
      "1250/1250 - 4s - loss: 1.1519 - accuracy: 0.6012 - val_loss: 1.2687 - val_accuracy: 0.5529\n",
      "Epoch 17/50\n",
      "1250/1250 - 4s - loss: 1.1377 - accuracy: 0.6055 - val_loss: 1.2650 - val_accuracy: 0.5520\n",
      "Epoch 18/50\n",
      "1250/1250 - 5s - loss: 1.1257 - accuracy: 0.6094 - val_loss: 1.2435 - val_accuracy: 0.5620\n",
      "Epoch 19/50\n",
      "1250/1250 - 4s - loss: 1.1137 - accuracy: 0.6141 - val_loss: 1.2467 - val_accuracy: 0.5614\n",
      "Epoch 20/50\n",
      "1250/1250 - 4s - loss: 1.1029 - accuracy: 0.6184 - val_loss: 1.2503 - val_accuracy: 0.5560\n",
      "Epoch 21/50\n",
      "1250/1250 - 5s - loss: 1.0893 - accuracy: 0.6234 - val_loss: 1.2558 - val_accuracy: 0.5547\n",
      "Epoch 22/50\n",
      "1250/1250 - 4s - loss: 1.0808 - accuracy: 0.6253 - val_loss: 1.2473 - val_accuracy: 0.5617\n",
      "Epoch 23/50\n",
      "1250/1250 - 4s - loss: 1.0673 - accuracy: 0.6307 - val_loss: 1.2526 - val_accuracy: 0.5581\n",
      "Epoch 24/50\n",
      "1250/1250 - 5s - loss: 1.0580 - accuracy: 0.6338 - val_loss: 1.2290 - val_accuracy: 0.5698\n",
      "Epoch 25/50\n",
      "1250/1250 - 4s - loss: 1.0444 - accuracy: 0.6377 - val_loss: 1.2801 - val_accuracy: 0.5567\n",
      "Epoch 26/50\n",
      "1250/1250 - 4s - loss: 1.0372 - accuracy: 0.6417 - val_loss: 1.2305 - val_accuracy: 0.5673\n",
      "Epoch 27/50\n",
      "1250/1250 - 4s - loss: 1.0243 - accuracy: 0.6452 - val_loss: 1.2622 - val_accuracy: 0.5571\n",
      "Epoch 28/50\n",
      "1250/1250 - 4s - loss: 1.0159 - accuracy: 0.6480 - val_loss: 1.2514 - val_accuracy: 0.5613\n",
      "Epoch 29/50\n",
      "1250/1250 - 4s - loss: 1.0074 - accuracy: 0.6517 - val_loss: 1.2279 - val_accuracy: 0.5664\n",
      "Epoch 30/50\n",
      "1250/1250 - 4s - loss: 0.9965 - accuracy: 0.6569 - val_loss: 1.2195 - val_accuracy: 0.5689\n",
      "Epoch 31/50\n",
      "1250/1250 - 4s - loss: 0.9889 - accuracy: 0.6575 - val_loss: 1.2127 - val_accuracy: 0.5746\n",
      "Epoch 32/50\n",
      "1250/1250 - 4s - loss: 0.9806 - accuracy: 0.6633 - val_loss: 1.2169 - val_accuracy: 0.5732\n",
      "Epoch 33/50\n",
      "1250/1250 - 4s - loss: 0.9712 - accuracy: 0.6652 - val_loss: 1.2565 - val_accuracy: 0.5658\n",
      "Epoch 34/50\n",
      "1250/1250 - 4s - loss: 0.9631 - accuracy: 0.6680 - val_loss: 1.2166 - val_accuracy: 0.5785\n",
      "Epoch 35/50\n",
      "1250/1250 - 4s - loss: 0.9540 - accuracy: 0.6702 - val_loss: 1.2308 - val_accuracy: 0.5684\n",
      "Epoch 36/50\n",
      "1250/1250 - 4s - loss: 0.9470 - accuracy: 0.6717 - val_loss: 1.2276 - val_accuracy: 0.5766\n",
      "Epoch 37/50\n",
      "1250/1250 - 4s - loss: 0.9384 - accuracy: 0.6746 - val_loss: 1.2428 - val_accuracy: 0.5632\n",
      "Epoch 38/50\n",
      "1250/1250 - 4s - loss: 0.9294 - accuracy: 0.6781 - val_loss: 1.2299 - val_accuracy: 0.5721\n",
      "Epoch 39/50\n",
      "1250/1250 - 5s - loss: 0.9242 - accuracy: 0.6800 - val_loss: 1.2386 - val_accuracy: 0.5685\n",
      "Epoch 40/50\n",
      "1250/1250 - 4s - loss: 0.9177 - accuracy: 0.6828 - val_loss: 1.2345 - val_accuracy: 0.5742\n",
      "Epoch 41/50\n",
      "1250/1250 - 5s - loss: 0.9088 - accuracy: 0.6847 - val_loss: 1.2696 - val_accuracy: 0.5591\n",
      "Epoch 42/50\n",
      "1250/1250 - 4s - loss: 0.9024 - accuracy: 0.6884 - val_loss: 1.2338 - val_accuracy: 0.5751\n",
      "Epoch 43/50\n",
      "1250/1250 - 4s - loss: 0.8949 - accuracy: 0.6913 - val_loss: 1.2484 - val_accuracy: 0.5746\n",
      "Epoch 44/50\n",
      "1250/1250 - 4s - loss: 0.8882 - accuracy: 0.6947 - val_loss: 1.2609 - val_accuracy: 0.5678\n",
      "Epoch 45/50\n",
      "1250/1250 - 4s - loss: 0.8795 - accuracy: 0.6950 - val_loss: 1.2774 - val_accuracy: 0.5689\n",
      "Epoch 46/50\n",
      "1250/1250 - 5s - loss: 0.8757 - accuracy: 0.6982 - val_loss: 1.2741 - val_accuracy: 0.5652\n",
      "Epoch 47/50\n",
      "1250/1250 - 4s - loss: 0.8697 - accuracy: 0.6992 - val_loss: 1.2338 - val_accuracy: 0.5756\n",
      "Epoch 48/50\n",
      "1250/1250 - 4s - loss: 0.8624 - accuracy: 0.6992 - val_loss: 1.2585 - val_accuracy: 0.5686\n",
      "Epoch 49/50\n",
      "1250/1250 - 5s - loss: 0.8570 - accuracy: 0.7034 - val_loss: 1.2914 - val_accuracy: 0.5590\n",
      "Epoch 50/50\n",
      "1250/1250 - 4s - loss: 0.8496 - accuracy: 0.7079 - val_loss: 1.2724 - val_accuracy: 0.5684\n"
     ]
    }
   ],
   "source": [
    "# compile : loss, metrics, optimizer\n",
    "model.compile(optimizer=optimizer, metrics=[\"accuracy\"], loss=\"CategoricalCrossentropy\")\n",
    "# fit : data, epoch, batch_size\n",
    "history = model.fit(x=X_train,y=y_train, epochs=50, verbose=2, validation_data=(X_test, y_test))"
   ]
  },
  {
   "cell_type": "markdown",
   "metadata": {},
   "source": [
    "## Metrics"
   ]
  },
  {
   "cell_type": "code",
   "execution_count": 110,
   "metadata": {},
   "outputs": [
    {
     "name": "stdout",
     "output_type": "stream",
     "text": [
      "              precision    recall  f1-score   support\n",
      "\n",
      "    classe_0       0.62      0.64      0.63      1024\n",
      "    classe_1       0.70      0.71      0.70      1017\n",
      "    classe_2       0.55      0.33      0.41       944\n",
      "    classe_3       0.44      0.28      0.34      1002\n",
      "    classe_4       0.49      0.47      0.48       981\n",
      "    classe_5       0.46      0.47      0.47       961\n",
      "    classe_6       0.46      0.81      0.59       980\n",
      "    classe_7       0.72      0.58      0.64       994\n",
      "    classe_8       0.64      0.75      0.69      1035\n",
      "    classe_9       0.67      0.65      0.66      1062\n",
      "\n",
      "    accuracy                           0.57     10000\n",
      "   macro avg       0.57      0.57      0.56     10000\n",
      "weighted avg       0.58      0.57      0.56     10000\n",
      "\n"
     ]
    }
   ],
   "source": [
    "preds = model.predict(X_val)\n",
    "target_names = [f\"classe_{i}\" for i in range(len(y_test[0]))]\n",
    "print(classification_report(y_val.argmax(axis=1), preds.argmax(axis=1), target_names=target_names))"
   ]
  },
  {
   "cell_type": "code",
   "execution_count": 113,
   "metadata": {},
   "outputs": [],
   "source": [
    "def plot_model_evaluation(history): \n",
    "    plt.figure(figsize=(10,10))\n",
    "    plt.plot(np.arange(0,50), history.history[\"loss\"], label=\"Loss\")\n",
    "    plt.plot(np.arange(0, 50), history.history[\"accuracy\"], label=\"train_accuracy\")\n",
    "    plt.plot(np.arange(0,50), history.history[\"val_loss\"], label=\"val_Loss\")\n",
    "    plt.plot(np.arange(0, 50), history.history[\"val_accuracy\"], label=\"val_accuracy\")\n",
    "    plt.grid()\n",
    "    plt.xlabel(\"Epochs\") \n",
    "    plt.ylabel(\"Loss / Accuracy\")\n",
    "    plt.legend()\n",
    "    plt.title(\"Model evaluation on CIFAR-10\")\n",
    "    plt.show()"
   ]
  },
  {
   "cell_type": "code",
   "execution_count": 114,
   "metadata": {},
   "outputs": [
    {
     "data": {
      "image/png": "[encoded data removed]",
      "text/plain": [
       "<Figure size 720x720 with 1 Axes>"
      ]
     },
     "metadata": {
      "needs_background": "light"
     },
     "output_type": "display_data"
    }
   ],
   "source": [
    "plot_model_evaluation(history)"
   ]
  },
  {
   "cell_type": "code",
   "execution_count": 119,
   "metadata": {},
   "outputs": [],
   "source": [
    "model.save(\"train/shallownet.h5\")"
   ]
  },
  {
   "cell_type": "code",
   "execution_count": 132,
   "metadata": {},
   "outputs": [
    {
     "name": "stdout",
     "output_type": "stream",
     "text": [
      "              precision    recall  f1-score   support\n",
      "\n",
      "    classe_0       0.62      0.64      0.63      1000\n",
      "    classe_1       0.69      0.72      0.71      1000\n",
      "    classe_2       0.53      0.31      0.39      1000\n",
      "    classe_3       0.43      0.29      0.35      1000\n",
      "    classe_4       0.50      0.43      0.46      1000\n",
      "    classe_5       0.48      0.52      0.50      1000\n",
      "    classe_6       0.46      0.82      0.59      1000\n",
      "    classe_7       0.72      0.58      0.64      1000\n",
      "    classe_8       0.63      0.76      0.69      1000\n",
      "    classe_9       0.63      0.62      0.63      1000\n",
      "\n",
      "    accuracy                           0.57     10000\n",
      "   macro avg       0.57      0.57      0.56     10000\n",
      "weighted avg       0.57      0.57      0.56     10000\n",
      "\n"
     ]
    }
   ],
   "source": [
    "mo = keras.models.load_model(\"train/shallownet.h5\")\n",
    "pred = mo.predict(X_test)\n",
    "print(classification_report(y_test.argmax(axis=1), pred.argmax(axis=1), target_names=target_names))"
   ]
  },
  {
   "cell_type": "markdown",
   "metadata": {},
   "source": [
    "## Learning rate decay : standard way "
   ]
  },
  {
   "cell_type": "code",
   "execution_count": 138,
   "metadata": {},
   "outputs": [
    {
     "name": "stdout",
     "output_type": "stream",
     "text": [
      "KerasTensor(type_spec=TensorSpec(shape=(None, 32, 32, 3), dtype=tf.float32, name='input_15'), name='input_15', description=\"created by layer 'input_15'\")\n",
      "Epoch 1/50\n",
      "1250/1250 - 5s - loss: 1.8534 - accuracy: 0.3468 - val_loss: 1.7300 - val_accuracy: 0.3925\n",
      "Epoch 2/50\n",
      "1250/1250 - 4s - loss: 1.6699 - accuracy: 0.4217 - val_loss: 1.6120 - val_accuracy: 0.4460\n",
      "Epoch 3/50\n",
      "1250/1250 - 4s - loss: 1.5849 - accuracy: 0.4557 - val_loss: 1.5481 - val_accuracy: 0.4574\n",
      "Epoch 4/50\n",
      "1250/1250 - 4s - loss: 1.5015 - accuracy: 0.4832 - val_loss: 1.4719 - val_accuracy: 0.4895\n",
      "Epoch 5/50\n",
      "1250/1250 - 5s - loss: 1.4266 - accuracy: 0.5092 - val_loss: 1.4169 - val_accuracy: 0.5041\n",
      "Epoch 6/50\n",
      "1250/1250 - 4s - loss: 1.3694 - accuracy: 0.5276 - val_loss: 1.3787 - val_accuracy: 0.5201\n",
      "Epoch 7/50\n",
      "1250/1250 - 4s - loss: 1.3270 - accuracy: 0.5420 - val_loss: 1.3493 - val_accuracy: 0.5224\n",
      "Epoch 8/50\n",
      "1250/1250 - 4s - loss: 1.2943 - accuracy: 0.5539 - val_loss: 1.3277 - val_accuracy: 0.5328\n",
      "Epoch 9/50\n",
      "1250/1250 - 4s - loss: 1.2669 - accuracy: 0.5616 - val_loss: 1.3122 - val_accuracy: 0.5339\n",
      "Epoch 10/50\n",
      "1250/1250 - 4s - loss: 1.2474 - accuracy: 0.5703 - val_loss: 1.2988 - val_accuracy: 0.5391\n",
      "Epoch 11/50\n",
      "1250/1250 - 4s - loss: 1.2292 - accuracy: 0.5768 - val_loss: 1.2952 - val_accuracy: 0.5416\n",
      "Epoch 12/50\n",
      "1250/1250 - 4s - loss: 1.2132 - accuracy: 0.5815 - val_loss: 1.2797 - val_accuracy: 0.5468\n",
      "Epoch 13/50\n",
      "1250/1250 - 4s - loss: 1.2009 - accuracy: 0.5860 - val_loss: 1.2865 - val_accuracy: 0.5443\n",
      "Epoch 14/50\n",
      "1250/1250 - 4s - loss: 1.1889 - accuracy: 0.5913 - val_loss: 1.2696 - val_accuracy: 0.5515\n",
      "Epoch 15/50\n",
      "1250/1250 - 4s - loss: 1.1785 - accuracy: 0.5959 - val_loss: 1.2704 - val_accuracy: 0.5476\n",
      "Epoch 16/50\n",
      "1250/1250 - 4s - loss: 1.1693 - accuracy: 0.5975 - val_loss: 1.2604 - val_accuracy: 0.5545\n",
      "Epoch 17/50\n",
      "1250/1250 - 4s - loss: 1.1618 - accuracy: 0.6010 - val_loss: 1.2567 - val_accuracy: 0.5523\n",
      "Epoch 18/50\n",
      "1250/1250 - 4s - loss: 1.1537 - accuracy: 0.6040 - val_loss: 1.2552 - val_accuracy: 0.5533\n",
      "Epoch 19/50\n",
      "1250/1250 - 4s - loss: 1.1465 - accuracy: 0.6044 - val_loss: 1.2515 - val_accuracy: 0.5560\n",
      "Epoch 20/50\n",
      "1250/1250 - 4s - loss: 1.1404 - accuracy: 0.6071 - val_loss: 1.2543 - val_accuracy: 0.5534\n",
      "Epoch 21/50\n",
      "1250/1250 - 4s - loss: 1.1347 - accuracy: 0.6102 - val_loss: 1.2553 - val_accuracy: 0.5532\n",
      "Epoch 22/50\n",
      "1250/1250 - 4s - loss: 1.1291 - accuracy: 0.6129 - val_loss: 1.2473 - val_accuracy: 0.5587\n",
      "Epoch 23/50\n",
      "1250/1250 - 4s - loss: 1.1248 - accuracy: 0.6138 - val_loss: 1.2412 - val_accuracy: 0.5615\n",
      "Epoch 24/50\n",
      "1250/1250 - 4s - loss: 1.1196 - accuracy: 0.6150 - val_loss: 1.2495 - val_accuracy: 0.5554\n",
      "Epoch 25/50\n",
      "1250/1250 - 4s - loss: 1.1149 - accuracy: 0.6169 - val_loss: 1.2395 - val_accuracy: 0.5602\n",
      "Epoch 26/50\n",
      "1250/1250 - 4s - loss: 1.1112 - accuracy: 0.6186 - val_loss: 1.2443 - val_accuracy: 0.5604\n",
      "Epoch 27/50\n",
      "1250/1250 - 4s - loss: 1.1067 - accuracy: 0.6183 - val_loss: 1.2402 - val_accuracy: 0.5604\n",
      "Epoch 28/50\n",
      "1250/1250 - 4s - loss: 1.1031 - accuracy: 0.6226 - val_loss: 1.2379 - val_accuracy: 0.5598\n",
      "Epoch 29/50\n",
      "1250/1250 - 5s - loss: 1.0995 - accuracy: 0.6227 - val_loss: 1.2450 - val_accuracy: 0.5577\n",
      "Epoch 30/50\n",
      "1250/1250 - 4s - loss: 1.0961 - accuracy: 0.6250 - val_loss: 1.2369 - val_accuracy: 0.5608\n",
      "Epoch 31/50\n",
      "1250/1250 - 4s - loss: 1.0928 - accuracy: 0.6247 - val_loss: 1.2383 - val_accuracy: 0.5607\n",
      "Epoch 32/50\n",
      "1250/1250 - 4s - loss: 1.0891 - accuracy: 0.6270 - val_loss: 1.2382 - val_accuracy: 0.5605\n",
      "Epoch 33/50\n",
      "1250/1250 - 5s - loss: 1.0864 - accuracy: 0.6282 - val_loss: 1.2342 - val_accuracy: 0.5624\n",
      "Epoch 34/50\n",
      "1250/1250 - 4s - loss: 1.0830 - accuracy: 0.6282 - val_loss: 1.2337 - val_accuracy: 0.5653\n",
      "Epoch 35/50\n",
      "1250/1250 - 4s - loss: 1.0798 - accuracy: 0.6284 - val_loss: 1.2321 - val_accuracy: 0.5660\n",
      "Epoch 36/50\n",
      "1250/1250 - 4s - loss: 1.0770 - accuracy: 0.6329 - val_loss: 1.2345 - val_accuracy: 0.5629\n",
      "Epoch 37/50\n",
      "1250/1250 - 4s - loss: 1.0747 - accuracy: 0.6314 - val_loss: 1.2308 - val_accuracy: 0.5637\n",
      "Epoch 38/50\n",
      "1250/1250 - 4s - loss: 1.0719 - accuracy: 0.6314 - val_loss: 1.2324 - val_accuracy: 0.5632\n",
      "Epoch 39/50\n",
      "1250/1250 - 4s - loss: 1.0697 - accuracy: 0.6327 - val_loss: 1.2291 - val_accuracy: 0.5671\n",
      "Epoch 40/50\n",
      "1250/1250 - 4s - loss: 1.0666 - accuracy: 0.6342 - val_loss: 1.2339 - val_accuracy: 0.5653\n",
      "Epoch 41/50\n",
      "1250/1250 - 4s - loss: 1.0639 - accuracy: 0.6362 - val_loss: 1.2339 - val_accuracy: 0.5625\n",
      "Epoch 42/50\n",
      "1250/1250 - 4s - loss: 1.0627 - accuracy: 0.6365 - val_loss: 1.2279 - val_accuracy: 0.5656\n",
      "Epoch 43/50\n",
      "1250/1250 - 4s - loss: 1.0596 - accuracy: 0.6365 - val_loss: 1.2273 - val_accuracy: 0.5665\n",
      "Epoch 44/50\n",
      "1250/1250 - 4s - loss: 1.0579 - accuracy: 0.6378 - val_loss: 1.2292 - val_accuracy: 0.5654\n",
      "Epoch 45/50\n",
      "1250/1250 - 4s - loss: 1.0555 - accuracy: 0.6381 - val_loss: 1.2331 - val_accuracy: 0.5615\n",
      "Epoch 46/50\n",
      "1250/1250 - 4s - loss: 1.0531 - accuracy: 0.6397 - val_loss: 1.2259 - val_accuracy: 0.5668\n",
      "Epoch 47/50\n",
      "1250/1250 - 4s - loss: 1.0513 - accuracy: 0.6392 - val_loss: 1.2277 - val_accuracy: 0.5684\n",
      "Epoch 48/50\n",
      "1250/1250 - 4s - loss: 1.0492 - accuracy: 0.6413 - val_loss: 1.2296 - val_accuracy: 0.5658\n",
      "Epoch 49/50\n",
      "1250/1250 - 4s - loss: 1.0471 - accuracy: 0.6423 - val_loss: 1.2265 - val_accuracy: 0.5690\n",
      "Epoch 50/50\n",
      "1250/1250 - 4s - loss: 1.0447 - accuracy: 0.6420 - val_loss: 1.2261 - val_accuracy: 0.5666\n"
     ]
    }
   ],
   "source": [
    "model = ShallowNet.build(w, h, c, 10) \n",
    "epochs=50\n",
    "optimizer = tf.keras.optimizers.SGD(learning_rate=0.01, decay=0.01 / epochs) \n",
    "model.compile(optimizer=optimizer, metrics=[\"accuracy\"], loss=\"CategoricalCrossentropy\")\n",
    "# fit : data, epoch, batch_size\n",
    "history = model.fit(x=X_train,y=y_train, epochs=epochs, verbose=2, validation_data=(X_test, y_test))"
   ]
  },
  {
   "cell_type": "code",
   "execution_count": 139,
   "metadata": {},
   "outputs": [
    {
     "name": "stdout",
     "output_type": "stream",
     "text": [
      "              precision    recall  f1-score   support\n",
      "\n",
      "    classe_0       0.61      0.61      0.61      1024\n",
      "    classe_1       0.67      0.72      0.69      1017\n",
      "    classe_2       0.42      0.45      0.43       944\n",
      "    classe_3       0.42      0.32      0.36      1002\n",
      "    classe_4       0.45      0.53      0.49       981\n",
      "    classe_5       0.44      0.47      0.45       961\n",
      "    classe_6       0.57      0.60      0.58       980\n",
      "    classe_7       0.64      0.59      0.62       994\n",
      "    classe_8       0.71      0.67      0.69      1035\n",
      "    classe_9       0.67      0.64      0.65      1062\n",
      "\n",
      "    accuracy                           0.56     10000\n",
      "   macro avg       0.56      0.56      0.56     10000\n",
      "weighted avg       0.56      0.56      0.56     10000\n",
      "\n"
     ]
    }
   ],
   "source": [
    "preds = model.predict(X_val)\n",
    "target_names = [f\"classe_{i}\" for i in range(len(y_test[0]))]\n",
    "print(classification_report(y_val.argmax(axis=1), preds.argmax(axis=1), target_names=target_names))"
   ]
  },
  {
   "cell_type": "code",
   "execution_count": 140,
   "metadata": {},
   "outputs": [
    {
     "data": {
      "image/png": "[encoded data removed]",
      "text/plain": [
       "<Figure size 720x720 with 1 Axes>"
      ]
     },
     "metadata": {
      "needs_background": "light"
     },
     "output_type": "display_data"
    }
   ],
   "source": [
    "plot_model_evaluation(history) # We have reduced Over fitting"
   ]
  },
  {
   "cell_type": "code",
   "execution_count": 141,
   "metadata": {},
   "outputs": [],
   "source": [
    "model.save(\"train/shallownet_decay.h5\")"
   ]
  },
  {
   "cell_type": "markdown",
   "metadata": {},
   "source": [
    "### Learning Rate : step based"
   ]
  },
  {
   "cell_type": "code",
   "execution_count": 163,
   "metadata": {},
   "outputs": [],
   "source": [
    "def step_decay(epoch): \n",
    "    \n",
    "    lr = 0.001\n",
    "    factor = 0.25\n",
    "    dropEvery = 8\n",
    "    \n",
    "    alpha = lr * factor ** np.floor((1 + epoch) / dropEvery)\n",
    "    \n",
    "    return float(alpha)"
   ]
  },
  {
   "cell_type": "code",
   "execution_count": null,
   "metadata": {},
   "outputs": [
    {
     "name": "stdout",
     "output_type": "stream",
     "text": [
      "KerasTensor(type_spec=TensorSpec(shape=(None, 32, 32, 3), dtype=tf.float32, name='input_23'), name='input_23', description=\"created by layer 'input_23'\")\n",
      "Epoch 1/50\n",
      "\n",
      "Epoch 00001: LearningRateScheduler reducing learning rate to 0.001.\n",
      "1250/1250 - 5s - loss: 2.1327 - accuracy: 0.2505 - val_loss: 1.9870 - val_accuracy: 0.3165\n",
      "Epoch 2/50\n",
      "\n",
      "Epoch 00002: LearningRateScheduler reducing learning rate to 0.001.\n",
      "1250/1250 - 4s - loss: 1.9276 - accuracy: 0.3335 - val_loss: 1.8878 - val_accuracy: 0.3338\n",
      "Epoch 3/50\n",
      "\n",
      "Epoch 00003: LearningRateScheduler reducing learning rate to 0.001.\n",
      "1250/1250 - 4s - loss: 1.8583 - accuracy: 0.3566 - val_loss: 1.8316 - val_accuracy: 0.3680\n",
      "Epoch 4/50\n",
      "\n",
      "Epoch 00004: LearningRateScheduler reducing learning rate to 0.001.\n",
      "1250/1250 - 4s - loss: 1.8174 - accuracy: 0.3723 - val_loss: 1.7975 - val_accuracy: 0.3756\n",
      "Epoch 5/50\n",
      "\n",
      "Epoch 00005: LearningRateScheduler reducing learning rate to 0.001.\n",
      "1250/1250 - 5s - loss: 1.7857 - accuracy: 0.3821 - val_loss: 1.7758 - val_accuracy: 0.3858\n",
      "Epoch 6/50\n",
      "\n",
      "Epoch 00006: LearningRateScheduler reducing learning rate to 0.001.\n",
      "1250/1250 - 4s - loss: 1.7597 - accuracy: 0.3918 - val_loss: 1.7507 - val_accuracy: 0.3897\n",
      "Epoch 7/50\n",
      "\n",
      "Epoch 00007: LearningRateScheduler reducing learning rate to 0.001.\n",
      "1250/1250 - 4s - loss: 1.7368 - accuracy: 0.3993 - val_loss: 1.7310 - val_accuracy: 0.4012\n",
      "Epoch 8/50\n",
      "\n",
      "Epoch 00008: LearningRateScheduler reducing learning rate to 0.00025.\n",
      "1250/1250 - 4s - loss: 1.7157 - accuracy: 0.4103 - val_loss: 1.7199 - val_accuracy: 0.4054\n",
      "Epoch 9/50\n",
      "\n",
      "Epoch 00009: LearningRateScheduler reducing learning rate to 0.00025.\n",
      "1250/1250 - 4s - loss: 1.7111 - accuracy: 0.4124 - val_loss: 1.7158 - val_accuracy: 0.4082\n",
      "Epoch 10/50\n",
      "\n",
      "Epoch 00010: LearningRateScheduler reducing learning rate to 0.00025.\n",
      "1250/1250 - 4s - loss: 1.7060 - accuracy: 0.4130 - val_loss: 1.7115 - val_accuracy: 0.4084\n",
      "Epoch 11/50\n",
      "\n",
      "Epoch 00011: LearningRateScheduler reducing learning rate to 0.00025.\n",
      "1250/1250 - 4s - loss: 1.7022 - accuracy: 0.4148 - val_loss: 1.7072 - val_accuracy: 0.4116\n",
      "Epoch 12/50\n",
      "\n",
      "Epoch 00012: LearningRateScheduler reducing learning rate to 0.00025.\n",
      "1250/1250 - 4s - loss: 1.6976 - accuracy: 0.4148 - val_loss: 1.7050 - val_accuracy: 0.4116\n",
      "Epoch 13/50\n",
      "\n",
      "Epoch 00013: LearningRateScheduler reducing learning rate to 0.00025.\n",
      "1250/1250 - 4s - loss: 1.6938 - accuracy: 0.4180 - val_loss: 1.6996 - val_accuracy: 0.4106\n",
      "Epoch 14/50\n",
      "\n",
      "Epoch 00014: LearningRateScheduler reducing learning rate to 0.00025.\n",
      "1250/1250 - 4s - loss: 1.6894 - accuracy: 0.4183 - val_loss: 1.6960 - val_accuracy: 0.4165\n",
      "Epoch 15/50\n",
      "\n",
      "Epoch 00015: LearningRateScheduler reducing learning rate to 0.00025.\n",
      "1250/1250 - 4s - loss: 1.6854 - accuracy: 0.4202 - val_loss: 1.6913 - val_accuracy: 0.4177\n",
      "Epoch 16/50\n",
      "\n",
      "Epoch 00016: LearningRateScheduler reducing learning rate to 6.25e-05.\n",
      "1250/1250 - 4s - loss: 1.6803 - accuracy: 0.4227 - val_loss: 1.6897 - val_accuracy: 0.4194\n",
      "Epoch 17/50\n",
      "\n",
      "Epoch 00017: LearningRateScheduler reducing learning rate to 6.25e-05.\n",
      "1250/1250 - 4s - loss: 1.6793 - accuracy: 0.4237 - val_loss: 1.6887 - val_accuracy: 0.4170\n",
      "Epoch 18/50\n",
      "\n",
      "Epoch 00018: LearningRateScheduler reducing learning rate to 6.25e-05.\n",
      "1250/1250 - 4s - loss: 1.6781 - accuracy: 0.4250 - val_loss: 1.6876 - val_accuracy: 0.4195\n",
      "Epoch 19/50\n",
      "\n",
      "Epoch 00019: LearningRateScheduler reducing learning rate to 6.25e-05.\n",
      "1250/1250 - 4s - loss: 1.6772 - accuracy: 0.4247 - val_loss: 1.6867 - val_accuracy: 0.4179\n",
      "Epoch 20/50\n",
      "\n",
      "Epoch 00020: LearningRateScheduler reducing learning rate to 6.25e-05.\n",
      "1250/1250 - 4s - loss: 1.6763 - accuracy: 0.4239 - val_loss: 1.6855 - val_accuracy: 0.4188\n",
      "Epoch 21/50\n",
      "\n",
      "Epoch 00021: LearningRateScheduler reducing learning rate to 6.25e-05.\n",
      "1250/1250 - 4s - loss: 1.6751 - accuracy: 0.4252 - val_loss: 1.6852 - val_accuracy: 0.4213\n",
      "Epoch 22/50\n",
      "\n",
      "Epoch 00022: LearningRateScheduler reducing learning rate to 6.25e-05.\n",
      "1250/1250 - 4s - loss: 1.6741 - accuracy: 0.4262 - val_loss: 1.6843 - val_accuracy: 0.4178\n",
      "Epoch 23/50\n",
      "\n",
      "Epoch 00023: LearningRateScheduler reducing learning rate to 6.25e-05.\n",
      "1250/1250 - 4s - loss: 1.6733 - accuracy: 0.4254 - val_loss: 1.6828 - val_accuracy: 0.4225\n",
      "Epoch 24/50\n",
      "\n",
      "Epoch 00024: LearningRateScheduler reducing learning rate to 1.5625e-05.\n",
      "1250/1250 - 4s - loss: 1.6719 - accuracy: 0.4261 - val_loss: 1.6826 - val_accuracy: 0.4212\n",
      "Epoch 25/50\n",
      "\n",
      "Epoch 00025: LearningRateScheduler reducing learning rate to 1.5625e-05.\n",
      "1250/1250 - 4s - loss: 1.6717 - accuracy: 0.4259 - val_loss: 1.6821 - val_accuracy: 0.4217\n",
      "Epoch 26/50\n",
      "\n",
      "Epoch 00026: LearningRateScheduler reducing learning rate to 1.5625e-05.\n",
      "1250/1250 - 4s - loss: 1.6715 - accuracy: 0.4270 - val_loss: 1.6819 - val_accuracy: 0.4215\n",
      "Epoch 27/50\n",
      "\n",
      "Epoch 00027: LearningRateScheduler reducing learning rate to 1.5625e-05.\n",
      "1250/1250 - 4s - loss: 1.6712 - accuracy: 0.4260 - val_loss: 1.6817 - val_accuracy: 0.4224\n",
      "Epoch 28/50\n",
      "\n",
      "Epoch 00028: LearningRateScheduler reducing learning rate to 1.5625e-05.\n"
     ]
    }
   ],
   "source": [
    "model = ShallowNet.build(w, h, c, 10) \n",
    "epochs=50\n",
    "optimizer = tf.keras.optimizers.SGD(learning_rate=0.01) \n",
    "\n",
    "# callbacks \n",
    "callbacks = [tf.keras.callbacks.LearningRateScheduler(verbose=1, schedule=step_decay)]\n",
    "\n",
    "model.compile(optimizer=optimizer, metrics=[\"accuracy\"], loss=\"CategoricalCrossentropy\")\n",
    "# fit : data, epoch, batch_size\n",
    "history = model.fit(x=X_train,y=y_train, epochs=epochs, verbose=2, validation_data=(X_test, y_test), callbacks=callbacks)"
   ]
  },
  {
   "cell_type": "code",
   "execution_count": null,
   "metadata": {},
   "outputs": [],
   "source": [
    "preds = model.predict(X_val)\n",
    "target_names = [f\"classe_{i}\" for i in range(len(y_test[0]))]\n",
    "print(classification_report(y_val.argmax(axis=1), preds.argmax(axis=1), target_names=target_names))"
   ]
  },
  {
   "cell_type": "code",
   "execution_count": null,
   "metadata": {},
   "outputs": [],
   "source": [
    "plot_model_evaluation(history) # We have reduced Over fitting"
   ]
  },
  {
   "cell_type": "code",
   "execution_count": null,
   "metadata": {},
   "outputs": [],
   "source": [
    "model.save(\"train/shallownet_step_decay.h5\") "
   ]
  },
  {
   "cell_type": "code",
   "execution_count": null,
   "metadata": {},
   "outputs": [],
   "source": []
  }
 ],
 "metadata": {
  "kernelspec": {
   "display_name": "Python 3",
   "language": "python",
   "name": "python3"
  },
  "language_info": {
   "codemirror_mode": {
    "name": "ipython",
    "version": 3
   },
   "file_extension": ".py",
   "mimetype": "text/x-python",
   "name": "python",
   "nbconvert_exporter": "python",
   "pygments_lexer": "ipython3",
   "version": "3.7.4"
  }
 },
 "nbformat": 4,
 "nbformat_minor": 2
}
